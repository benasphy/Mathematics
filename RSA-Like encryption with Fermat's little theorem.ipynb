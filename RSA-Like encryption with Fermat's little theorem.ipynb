{
  "nbformat": 4,
  "nbformat_minor": 0,
  "metadata": {
    "colab": {
      "provenance": [],
      "authorship_tag": "ABX9TyNw7Jjs31YzH/D2+ddutSPH",
      "include_colab_link": true
    },
    "kernelspec": {
      "name": "python3",
      "display_name": "Python 3"
    },
    "language_info": {
      "name": "python"
    }
  },
  "cells": [
    {
      "cell_type": "markdown",
      "metadata": {
        "id": "view-in-github",
        "colab_type": "text"
      },
      "source": [
        "<a href=\"https://colab.research.google.com/github/benasphy/Mathematics/blob/main/RSA-Like%20encryption%20with%20Fermat's%20little%20theorem.ipynb\" target=\"_parent\"><img src=\"https://colab.research.google.com/assets/colab-badge.svg\" alt=\"Open In Colab\"/></a>"
      ]
    },
    {
      "cell_type": "markdown",
      "source": [
        "RSA-Like Encryption Using Fermat's Theorem\n"
      ],
      "metadata": {
        "id": "cm1kBBe_X5kw"
      }
    },
    {
      "cell_type": "code",
      "execution_count": 1,
      "metadata": {
        "colab": {
          "base_uri": "https://localhost:8080/"
        },
        "id": "GKWrBKJmXl03",
        "outputId": "8664b03a-54a7-4a86-8669-6c7ad46c7eee"
      },
      "outputs": [
        {
          "output_type": "stream",
          "name": "stdout",
          "text": [
            "Original: 42\n",
            "Encrypted: 2557\n",
            "Decrypted: 42\n"
          ]
        }
      ],
      "source": [
        "def generate_keypair(p, q, e):\n",
        "    n = p * q\n",
        "    phi = (p - 1) * (q - 1)\n",
        "    d = pow(e, -1, phi)\n",
        "    return ((e, n), (d, n))\n",
        "\n",
        "def encrypt(msg, pubkey):\n",
        "    e, n = pubkey\n",
        "    return pow(msg, e, n)\n",
        "\n",
        "def decrypt(cipher, privkey):\n",
        "    d, n = privkey\n",
        "    return pow(cipher, d, n)\n",
        "\n",
        "# Example primes\n",
        "p = 61\n",
        "q = 53\n",
        "e = 17  # Public exponent\n",
        "\n",
        "public_key, private_key = generate_keypair(p, q, e)\n",
        "\n",
        "msg = 42\n",
        "cipher = encrypt(msg, public_key)\n",
        "decrypted = decrypt(cipher, private_key)\n",
        "\n",
        "print(\"Original:\", msg)\n",
        "print(\"Encrypted:\", cipher)\n",
        "print(\"Decrypted:\", decrypted)\n"
      ]
    }
  ]
}